{
 "cells": [
  {
   "cell_type": "code",
   "execution_count": 21,
   "metadata": {},
   "outputs": [],
   "source": [
    "import os\n",
    "import requests\n",
    "import json\n",
    "from datetime import datetime, timedelta\n",
    "import pandas as pd"
   ]
  },
  {
   "cell_type": "code",
   "execution_count": 28,
   "metadata": {},
   "outputs": [
    {
     "name": "stdout",
     "output_type": "stream",
     "text": [
      "Number of transactions for 2023-08-01: 0 (Morning: 0, Afternoon: 0)\n",
      "Data saved to ../data/raw/transactions_2023-08-01.csv\n"
     ]
    }
   ],
   "source": [
    "api_key = os.getenv(\"FINNHUB_API_KEY\")\n",
    "\n",
    "def test_api(stock, start_date):\n",
    "    start_date_obj = datetime.strptime(start_date, \"%Y-%m-%d\")\n",
    "    end_date_obj = start_date_obj + timedelta(days=50)\n",
    "    end_date = end_date_obj.strftime(\"%Y-%m-%d\")\n",
    "\n",
    "    url = f'https://finnhub.io/api/v1/stock/insider-transactions?symbol={stock}&from={start_date}&to={end_date}&token={api_key}'\n",
    "    r = requests.get(url)\n",
    "    data = r.json()\n",
    "    \n",
    "    print(f\"Status Code: {r.status_code}\")\n",
    "    if 'data' in data:\n",
    "        print(f\"Number of transactions from {start_date} to {end_date}: {len(data['data'])}\")\n",
    "        \n",
    "        # Convert the data to a pandas DataFrame\n",
    "        df = pd.DataFrame(data['data'])\n",
    "        \n",
    "        # Save the DataFrame to a CSV file\n",
    "        filename = f\"../data/raw/transactions_{start_date}_to_{end_date}.csv\"\n",
    "        df.to_csv(filename, index=False)\n",
    "        print(f\"Data saved to {filename}\")\n",
    "    else:\n",
    "        print(\"No data returned.\")\n",
    "\n",
    "if __name__ == \"__main__\":\n",
    "    test_date = \"2023-07-01\"  # You can change this to any date you want to test\n",
    "    stock_symbol = \"\"  # Leave empty for all stocks or specify a stock symbol\n",
    "    test_api(stock_symbol, test_date)"
   ]
  }
 ],
 "metadata": {
  "kernelspec": {
   "display_name": "Python 3",
   "language": "python",
   "name": "python3"
  },
  "language_info": {
   "codemirror_mode": {
    "name": "ipython",
    "version": 3
   },
   "file_extension": ".py",
   "mimetype": "text/x-python",
   "name": "python",
   "nbconvert_exporter": "python",
   "pygments_lexer": "ipython3",
   "version": "3.9.7"
  },
  "orig_nbformat": 4
 },
 "nbformat": 4,
 "nbformat_minor": 2
}
